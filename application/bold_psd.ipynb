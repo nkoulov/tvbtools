{
 "cells": [
  {
   "cell_type": "code",
   "execution_count": 1,
   "metadata": {},
   "outputs": [],
   "source": [
    "import sys\n",
    "sys.path.append('/mnt/w/github/tvbtools/')\n",
    "from tvbtools.signaltools import SignalToolkit\n",
    "import numpy as np\n",
    "import pandas as pd\n",
    "import matplotlib.pyplot as plt\n",
    "import ipywidgets as widgets\n",
    "import scipy\n",
    "my_layout = widgets.Layout()\n",
    "plt.style.use('ggplot')\n",
    "import os\n",
    "import random\n",
    "import seaborn as sns\n"
   ]
  },
  {
   "cell_type": "code",
   "execution_count": 2,
   "metadata": {},
   "outputs": [],
   "source": [
    "node_names = ['aCNG-L', 'aCNG-R','mCNG-L','mCNG-R','pCNG-L','pCNG-R', 'HIP-L','HIP-R','PHG-L','PHG-R','AMY-L','AMY-R', 'sTEMp-L','sTEMp-R','mTEMp-L','mTEMp-R']\n",
    "path = '/mnt/w/Gc_Go.xlsx'\n",
    "coData = pd.read_excel(path)\n",
    "\n",
    "def bold_psd(grp, caseid):\n",
    "    # import empirical functional connectivity\n",
    "    # Here is the path of the mat file of the FC data\n",
    "    pth = \"/mnt/w/TS-4-Vik/\"+ grp+'-TS/'+ caseid +\"/ROISignals_\"+ caseid +\".mat\"\n",
    "    subject = SignalToolkit(filename=pth, fs=0.5)\n",
    "    bold = subject.data_reader()\n",
    "    df = pd.DataFrame.from_dict(bold.get(\"ROISignals\"))\n",
    "    df.columns = node_names\n",
    "    dfd = pd.DataFrame()\n",
    "\n",
    "    # for i in range(16):\n",
    "    #     x, y = subject.psd(data=df.iloc[:,i], visual=False)\n",
    "    #     _dfd = pd.Series(data=y,copy=False)\n",
    "    #     dfd = pd.concat([dfd, _dfd], ignore_index = True, axis=1)\n",
    "    # dfd.columns = node_names\n",
    "\n",
    "    # la = (y2[1:int(len(x2)/2)] - y1[1:int(len(x1)/2)])/(y1[1:int(len(x1)/2)] + y2[1:int(len(x2)/2)])\n",
    "    # fig = plt.figure(figsize=(15,5))\n",
    "    # axes = fig.add_subplot(111)\n",
    "    faxis, dominant_left = subject.psd(data=df.iloc[:,4], sampling_interval=2, visual=False, xlim=0.25, fNQ = 512, label=\"pcg_left\")\n",
    "    faxis, dominant_right = subject.psd(data=df.iloc[:,5], sampling_interval=2, visual=False, xlim=0.25, fNQ = 512, label=\"pcg_right\")\n",
    "    # plt.legend()\n",
    "    #return faxis[np.argmax(dominant_left)]*dominant_left[np.argmax(dominant_left)], faxis[np.argmax(dominant_right)]*dominant_right[np.argmax(dominant_right)]\n",
    "    return faxis[np.argmax(dominant_left)], faxis[np.argmax(dominant_right)]\n",
    "\n",
    "    \n",
    "    # dfd.plot.bar(figsize=(15,5))\n",
    "\n",
    "    # dfd.to_excel(f\"/mnt/c/Users/Wayne/tvb/psdres/psd_data/{grp}/{caseid}.xlsx\")\n",
    "    # axes = subject.panel()\n",
    "    # axes.set_title(f\"{grp}_{caseid}_limbic\")\n",
    "    # for i in range(16):\n",
    "    #     subject.psd(data=df.iloc[:,i], visual=True, axes=axes, xlim=0.25, label =node_names[i], c=colorlist[i])\n",
    "    # plt.legend()\n",
    "    # plt.savefig(f\"/mnt/c/Users/wayne/tvb/psdres/limbic/{grp}_{caseid}.png\", dpi=300)\n",
    "    \n",
    "    # axes = subject.panel()\n",
    "    # axes.set_title(f\"{grp}_{caseid}_pcg\")\n",
    "    # for i in [4,5]:\n",
    "    #     subject.psd(data=df.iloc[:,i], visual=True, axes=axes, xlim=0.25, label =node_names[i], c=colorlist[i])\n",
    "    # plt.legend()\n",
    "    # plt.savefig(f\"/mnt/c/Users/wayne/tvb/psdres/pcg/{grp}_{caseid}.png\", dpi=300)\n"
   ]
  },
  {
   "cell_type": "code",
   "execution_count": 6,
   "metadata": {},
   "outputs": [
    {
     "data": {
      "text/plain": [
       "array([<AxesSubplot:title={'center':'AD'}, ylabel='Frequency'>,\n",
       "       <AxesSubplot:title={'center':'MCI'}, ylabel='Frequency'>,\n",
       "       <AxesSubplot:title={'center':'NC'}, ylabel='Frequency'>,\n",
       "       <AxesSubplot:title={'center':'SNC'}, ylabel='Frequency'>],\n",
       "      dtype=object)"
      ]
     },
     "execution_count": 6,
     "metadata": {},
     "output_type": "execute_result"
    },
    {
     "data": {
      "image/png": "[encoded data removed]",
      "text/plain": [
       "<Figure size 432x288 with 4 Axes>"
      ]
     },
     "metadata": {},
     "output_type": "display_data"
    }
   ],
   "source": [
    "# %matplotlib widget\n",
    "# bold_psd(\"SNC\",\"4481A\")\n",
    "\n",
    "df = pd.DataFrame()\n",
    "for grp, caseid in zip(coData.groups,coData.caseid):\n",
    "    x,y = bold_psd(grp,caseid)\n",
    "    df = pd.concat([df, pd.DataFrame.from_records([{'grp':grp, \"casied\":caseid, \"dominant_left\":x, \"dominant_right\":y}])], ignore_index=True)\n",
    "sns.stripplot(data=df, x='grp', y='dominant_left')"
   ]
  },
  {
   "cell_type": "code",
   "execution_count": 4,
   "metadata": {},
   "outputs": [],
   "source": [
    "# %matplotlib widget\n",
    "# x = [10,120,130,120,120,100,123,456,78,89]\n",
    "\n",
    "# subject= SignalToolkit()\n",
    "# x = x-np.mean(x)\n",
    "# subject.psd(data=x, sampling_interval=1/10, visual=True, xlim=5, fNQ = 512)"
   ]
  }
 ],
 "metadata": {
  "kernelspec": {
   "display_name": "Python 3.8.12 ('tvbenv')",
   "language": "python",
   "name": "python3"
  },
  "language_info": {
   "codemirror_mode": {
    "name": "ipython",
    "version": 3
   },
   "file_extension": ".py",
   "mimetype": "text/x-python",
   "name": "python",
   "nbconvert_exporter": "python",
   "pygments_lexer": "ipython3",
   "version": "3.8.12"
  },
  "orig_nbformat": 4,
  "vscode": {
   "interpreter": {
    "hash": "e3aab1fa5f79352fecdf7fbbb0c622827de056aae1b7ef507c7f9c49073eb6da"
   }
  }
 },
 "nbformat": 4,
 "nbformat_minor": 2
}
