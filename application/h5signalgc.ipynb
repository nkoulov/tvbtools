{
 "cells": [
  {
   "cell_type": "markdown",
   "metadata": {},
   "source": [
    "### Signal processing application in 3 mins long G critical simluated LFPs"
   ]
  },
  {
   "cell_type": "code",
   "execution_count": null,
   "metadata": {},
   "outputs": [],
   "source": [
    "import pandas as pd\n",
    "import h5py\n",
    "import numpy as np\n",
    "import matplotlib.pyplot as plt\n",
    "import sys\n",
    "from scipy.signal import hilbert, chirp\n",
    "# import tools\n",
    "# sys.path.append(\"/mnt/c/Users/wayne/tvb/tvbtools\")\n",
    "sys.path.append(\"/mnt/w/github/tvbtools\")\n",
    "from tools.signalTools import signalToolkit\n",
    "import ipywidgets as widgets\n",
    "my_layout = widgets.Layout()\n",
    "plt.style.use('ggplot')\n",
    "%matplotlib inline"
   ]
  },
  {
   "cell_type": "code",
   "execution_count": null,
   "metadata": {},
   "outputs": [],
   "source": [
    "# import example data\n",
    "# filename = \"/mnt/c/Users/wayne/tvb/gc3mins/SNC/2820A.h5\"\n",
    "filename = \"/mnt/w/go3mins/SNC/2820A.h5\"\n",
    "subjects = signalToolkit(filename, fs=81920.)\n",
    "pcgleftAF, N, delay = subjects.signalpreprocessing(channelNum = 4, filter = True, low=2., high=10.)\n",
    "rawpcgleft = subjects.signalpreprocessing(channelNum=4, filter=False)\n",
    "rawspikesparas = {'prominence': 0.5, 'height': 1}\n",
    "valleysparas = {'prominence': 1., 'width':3000, 'height': 0.}\n",
    "filteredspikesparas = {'prominence': 0.5, 'width':3000, 'height': 0.}\n",
    "spikeslist, valleyslist = subjects.peaksValleys(rawpcgleft, rawspikesparas,valleysparas)\n",
    "spikeslistAF, _ = subjects.peaksValleys(pcgleftAF, filteredspikesparas, valleysparas)\n",
    "%matplotlib widget\n",
    "subjects.psd(data = pcgleftAF, visual = True)\n",
    "subjects.signal_AF(data=rawpcgleft, spikeslist = spikeslist, valleyslist = valleyslist, N=N, delay=delay, afterFiltered = pcgleftAF, spikeslistAF = spikeslistAF)"
   ]
  }
 ],
 "metadata": {
  "kernelspec": {
   "display_name": "Python 3.8.12 ('tvbenv')",
   "language": "python",
   "name": "python3"
  },
  "language_info": {
   "codemirror_mode": {
    "name": "ipython",
    "version": 3
   },
   "file_extension": ".py",
   "mimetype": "text/x-python",
   "name": "python",
   "nbconvert_exporter": "python",
   "pygments_lexer": "ipython3",
   "version": "3.8.12"
  },
  "orig_nbformat": 4,
  "vscode": {
   "interpreter": {
    "hash": "e3aab1fa5f79352fecdf7fbbb0c622827de056aae1b7ef507c7f9c49073eb6da"
   }
  }
 },
 "nbformat": 4,
 "nbformat_minor": 2
}
