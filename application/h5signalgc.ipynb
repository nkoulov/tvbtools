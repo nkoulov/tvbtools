{
 "cells": [
  {
   "cell_type": "markdown",
   "metadata": {},
   "source": [
    "### Signal processing application in 3 mins long G critical simluated LFPs"
   ]
  },
  {
   "cell_type": "code",
   "execution_count": 1,
   "metadata": {},
   "outputs": [],
   "source": [
    "import pandas as pd\n",
    "import h5py\n",
    "import numpy as np\n",
    "import matplotlib.pyplot as plt\n",
    "import sys\n",
    "from scipy.signal import hilbert, chirp\n",
    "# import tools\n",
    "# sys.path.append(\"/mnt/c/Users/wayne/tvb/tvbtools\")\n",
    "sys.path.append(\"/mnt/w/github/tvbtools\")\n",
    "from tools.signalTools import signalToolkit\n",
    "import ipywidgets as widgets\n",
    "my_layout = widgets.Layout()\n",
    "plt.style.use('ggplot')\n",
    "%matplotlib inline"
   ]
  },
  {
   "cell_type": "code",
   "execution_count": 2,
   "metadata": {},
   "outputs": [
    {
     "ename": "TypeError",
     "evalue": "signalpreprocessing() got an unexpected keyword argument 'spikesDetection'",
     "output_type": "error",
     "traceback": [
      "\u001b[0;31m---------------------------------------------------------------------------\u001b[0m",
      "\u001b[0;31mTypeError\u001b[0m                                 Traceback (most recent call last)",
      "\u001b[1;32m/mnt/w/github/tvbtools/application/h5signalgc.ipynb Cell 3'\u001b[0m in \u001b[0;36m<cell line: 5>\u001b[0;34m()\u001b[0m\n\u001b[1;32m      <a href='vscode-notebook-cell://wsl%2Bubuntu/mnt/w/github/tvbtools/application/h5signalgc.ipynb#ch0000002vscode-remote?line=2'>3</a>\u001b[0m filename \u001b[39m=\u001b[39m \u001b[39m\"\u001b[39m\u001b[39m/mnt/w/go3mins/SNC/2820A.h5\u001b[39m\u001b[39m\"\u001b[39m\n\u001b[1;32m      <a href='vscode-notebook-cell://wsl%2Bubuntu/mnt/w/github/tvbtools/application/h5signalgc.ipynb#ch0000002vscode-remote?line=3'>4</a>\u001b[0m subjects \u001b[39m=\u001b[39m signalToolkit(filename, fs\u001b[39m=\u001b[39m\u001b[39m81920.\u001b[39m)\n\u001b[0;32m----> <a href='vscode-notebook-cell://wsl%2Bubuntu/mnt/w/github/tvbtools/application/h5signalgc.ipynb#ch0000002vscode-remote?line=4'>5</a>\u001b[0m subjects\u001b[39m.\u001b[39;49msignalpreprocessing(channelNum \u001b[39m=\u001b[39;49m \u001b[39m4\u001b[39;49m, \u001b[39mfilter\u001b[39;49m \u001b[39m=\u001b[39;49m \u001b[39mTrue\u001b[39;49;00m, low\u001b[39m=\u001b[39;49m\u001b[39m50.\u001b[39;49m, high\u001b[39m=\u001b[39;49m\u001b[39m60.\u001b[39;49m, spikesDetection \u001b[39m=\u001b[39;49m \u001b[39mTrue\u001b[39;49;00m)\n\u001b[1;32m      <a href='vscode-notebook-cell://wsl%2Bubuntu/mnt/w/github/tvbtools/application/h5signalgc.ipynb#ch0000002vscode-remote?line=5'>6</a>\u001b[0m subjects\u001b[39m.\u001b[39mpeaksValleys(prominence\u001b[39m=\u001b[39m\u001b[39m0.5\u001b[39m, width\u001b[39m=\u001b[39m\u001b[39m3000\u001b[39m, threshold\u001b[39m=\u001b[39m\u001b[39m0\u001b[39m)\n\u001b[1;32m      <a href='vscode-notebook-cell://wsl%2Bubuntu/mnt/w/github/tvbtools/application/h5signalgc.ipynb#ch0000002vscode-remote?line=6'>7</a>\u001b[0m get_ipython()\u001b[39m.\u001b[39mrun_line_magic(\u001b[39m'\u001b[39m\u001b[39mmatplotlib\u001b[39m\u001b[39m'\u001b[39m, \u001b[39m'\u001b[39m\u001b[39mwidget\u001b[39m\u001b[39m'\u001b[39m)\n",
      "\u001b[0;31mTypeError\u001b[0m: signalpreprocessing() got an unexpected keyword argument 'spikesDetection'"
     ]
    }
   ],
   "source": [
    "# import example data\n",
    "# filename = \"/mnt/c/Users/wayne/tvb/gc3mins/SNC/2820A.h5\"\n",
    "filename = \"/mnt/w/go3mins/SNC/2820A.h5\"\n",
    "subjects = signalToolkit(filename, fs=81920.)\n",
    "subjects.signalpreprocessing(channelNum = 4, filter = True, low=50., high=60.)\n",
    "subjects.peaksValleys(prominence=0.5, width=3000, threshold=0)\n",
    "%matplotlib widget\n",
    "subjects.psd(visual = True, digit = 122)"
   ]
  }
 ],
 "metadata": {
  "kernelspec": {
   "display_name": "Python 3.8.12 ('tvbenv')",
   "language": "python",
   "name": "python3"
  },
  "language_info": {
   "codemirror_mode": {
    "name": "ipython",
    "version": 3
   },
   "file_extension": ".py",
   "mimetype": "text/x-python",
   "name": "python",
   "nbconvert_exporter": "python",
   "pygments_lexer": "ipython3",
   "version": "3.8.12"
  },
  "orig_nbformat": 4,
  "vscode": {
   "interpreter": {
    "hash": "e3aab1fa5f79352fecdf7fbbb0c622827de056aae1b7ef507c7f9c49073eb6da"
   }
  }
 },
 "nbformat": 4,
 "nbformat_minor": 2
}
