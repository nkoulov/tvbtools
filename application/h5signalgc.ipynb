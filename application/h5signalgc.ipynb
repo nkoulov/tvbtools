{
 "cells": [
  {
   "cell_type": "markdown",
   "metadata": {},
   "source": [
    "### Signal processing application in 3 mins long G critical simluated LFPs"
   ]
  },
  {
   "cell_type": "code",
   "execution_count": 1,
   "metadata": {},
   "outputs": [],
   "source": [
    "import pandas as pd\n",
    "import h5py\n",
    "import numpy as np\n",
    "import matplotlib.pyplot as plt\n",
    "import sys\n",
    "from scipy.signal import hilbert, chirp\n",
    "# import tools\n",
    "# sys.path.append(\"/mnt/c/Users/wayne/tvb/tvbtools\")\n",
    "sys.path.append(\"/mnt/w/github/tvbtools\")\n",
    "from tvbtools.signaltools import SignalToolkit\n",
    "import ipywidgets as widgets\n",
    "my_layout = widgets.Layout()\n",
    "plt.style.use('ggplot')\n",
    "%matplotlib inline"
   ]
  },
  {
   "cell_type": "code",
   "execution_count": 2,
   "metadata": {},
   "outputs": [],
   "source": [
    "# import example data\n",
    "# filename = \"/mnt/c/Users/wayne/tvb/gc3mins/SNC/2820A.h5\"\n",
    "filename = \"/mnt/w/gc3mins/AD/0306A.h5\"\n",
    "# create an instance\n",
    "subject = SignalToolkit(filename, fs=81920.)\n",
    "dset = subject.hdf5_reader()\n",
    "# indexing the pcg regions\n",
    "\n",
    "spikesparas = {'prominence': 0.5, 'height': .5}\n",
    "valleysparas= {'prominence': 1., 'width':3000, 'height': 0.}\n",
    "spikesparas_af= {'prominence': 0.5, 'width':3000, 'height': 0.}\n",
    "\n",
    "\n",
    "pcg_left = subject.signal_package(dset, 4, 'pcg_left', 2.0, 3.0, True, spikesparas, valleysparas,spikesparas_af)\n",
    "pcg_right = subject.signal_package(dset, 5, 'pcg_right', 2.0, 3.0,True, spikesparas, valleysparas,spikesparas_af)"
   ]
  },
  {
   "cell_type": "code",
   "execution_count": null,
   "metadata": {},
   "outputs": [],
   "source": [
    "%matplotlib widget\n",
    "fig = plt.figure(figsize=(15,5))\n",
    "axes = fig.add_subplot(111)\n",
    "axes = subject.signal_af(axes=axes, **pcg_left)\n",
    "subject.signal_af(axes=axes, **pcg_right)\n",
    "axes.set_title(\"pcg\")\n",
    "axes.legend()\n",
    "plt.show()"
   ]
  },
  {
   "cell_type": "code",
   "execution_count": null,
   "metadata": {},
   "outputs": [],
   "source": [
    "subject.phase_locking(pcg_left[\"after_filtered\"], pcg_right[\"after_filtered\"], visual=False)"
   ]
  },
  {
   "cell_type": "code",
   "execution_count": 3,
   "metadata": {},
   "outputs": [
    {
     "ename": "TypeError",
     "evalue": "'>=' not supported between instances of 'NoneType' and 'int'",
     "output_type": "error",
     "traceback": [
      "\u001b[0;31m---------------------------------------------------------------------------\u001b[0m",
      "\u001b[0;31mTypeError\u001b[0m                                 Traceback (most recent call last)",
      "\u001b[1;32m/mnt/w/github/tvbtools/application/h5signalgc.ipynb Cell 6'\u001b[0m in \u001b[0;36m<cell line: 1>\u001b[0;34m()\u001b[0m\n\u001b[0;32m----> <a href='vscode-notebook-cell://wsl%2Bubuntu/mnt/w/github/tvbtools/application/h5signalgc.ipynb#ch0000005vscode-remote?line=0'>1</a>\u001b[0m amp_degree_left \u001b[39m=\u001b[39m subject\u001b[39m.\u001b[39;49mamp_count(data\u001b[39m=\u001b[39;49mpcg_left[\u001b[39m\"\u001b[39;49m\u001b[39mdata\u001b[39;49m\u001b[39m\"\u001b[39;49m], spikeslist\u001b[39m=\u001b[39;49mpcg_left[\u001b[39m'\u001b[39;49m\u001b[39mspikeslist\u001b[39;49m\u001b[39m'\u001b[39;49m], valleyslist\u001b[39m=\u001b[39;49mpcg_left[\u001b[39m\"\u001b[39;49m\u001b[39mvalleyslist\u001b[39;49m\u001b[39m\"\u001b[39;49m], mode\u001b[39m=\u001b[39;49m\u001b[39m\"\u001b[39;49m\u001b[39mAP\u001b[39;49m\u001b[39m\"\u001b[39;49m)\n\u001b[1;32m      <a href='vscode-notebook-cell://wsl%2Bubuntu/mnt/w/github/tvbtools/application/h5signalgc.ipynb#ch0000005vscode-remote?line=1'>2</a>\u001b[0m amp_degree_right \u001b[39m=\u001b[39m subject\u001b[39m.\u001b[39mamp_count(data\u001b[39m=\u001b[39mpcg_right[\u001b[39m\"\u001b[39m\u001b[39mdata\u001b[39m\u001b[39m\"\u001b[39m], spikeslist\u001b[39m=\u001b[39mpcg_right[\u001b[39m'\u001b[39m\u001b[39mspikeslist\u001b[39m\u001b[39m'\u001b[39m], valleyslist\u001b[39m=\u001b[39mpcg_right[\u001b[39m\"\u001b[39m\u001b[39mvalleyslist\u001b[39m\u001b[39m\"\u001b[39m], mode\u001b[39m=\u001b[39m\u001b[39m\"\u001b[39m\u001b[39mAP\u001b[39m\u001b[39m\"\u001b[39m)\n\u001b[1;32m      <a href='vscode-notebook-cell://wsl%2Bubuntu/mnt/w/github/tvbtools/application/h5signalgc.ipynb#ch0000005vscode-remote?line=2'>3</a>\u001b[0m \u001b[39mprint\u001b[39m(amp_degree_left, amp_degree_right)\n",
      "File \u001b[0;32m/mnt/w/github/tvbtools/tvbtools/signaltools.py:403\u001b[0m, in \u001b[0;36mSignalToolkit.amp_count\u001b[0;34m(self, data, spikeslist, valleyslist, mode, visual, spikeslist_af, after_filtered, N, delay, figsize, digit)\u001b[0m\n\u001b[1;32m    401\u001b[0m \u001b[39mfor\u001b[39;00m one \u001b[39min\u001b[39;00m valleyslist:\n\u001b[1;32m    402\u001b[0m     raw_spikes \u001b[39m=\u001b[39m \u001b[39mself\u001b[39m\u001b[39m.\u001b[39mrange_peaks(spikeslist\u001b[39m=\u001b[39mspikeslist, valleyslist\u001b[39m=\u001b[39mvalleyslist, init\u001b[39m=\u001b[39m_init, end \u001b[39m=\u001b[39m one)\n\u001b[0;32m--> 403\u001b[0m     spikes_af \u001b[39m=\u001b[39m \u001b[39mself\u001b[39;49m\u001b[39m.\u001b[39;49mrange_peaks(spikeslist\u001b[39m=\u001b[39;49mspikeslist_af, valleyslist\u001b[39m=\u001b[39;49mvalleyslist, init\u001b[39m=\u001b[39;49m_init, end \u001b[39m=\u001b[39;49m one)\n\u001b[1;32m    404\u001b[0m     \u001b[39mif\u001b[39;00m \u001b[39mlen\u001b[39m(raw_spikes) \u001b[39mand\u001b[39;00m \u001b[39mlen\u001b[39m(spikes_af) \u001b[39m>\u001b[39m\u001b[39m0\u001b[39m:\n\u001b[1;32m    405\u001b[0m         peak2val \u001b[39m=\u001b[39m np\u001b[39m.\u001b[39mmean(data[raw_spikes]\u001b[39m-\u001b[39mnp\u001b[39m.\u001b[39mmean([data[_init], data[one]]))\n",
      "File \u001b[0;32m/mnt/w/github/tvbtools/tvbtools/signaltools.py:327\u001b[0m, in \u001b[0;36mSignalToolkit.range_peaks\u001b[0;34m(spikeslist, valleyslist, init, end)\u001b[0m\n\u001b[1;32m    325\u001b[0m spikeslist \u001b[39m=\u001b[39m np\u001b[39m.\u001b[39marray(spikeslist)\n\u001b[1;32m    326\u001b[0m valleyslist\u001b[39m=\u001b[39m np\u001b[39m.\u001b[39marray(valleyslist)\n\u001b[0;32m--> 327\u001b[0m \u001b[39mreturn\u001b[39;00m spikeslist[np\u001b[39m.\u001b[39mwhere(np\u001b[39m.\u001b[39mlogical_and(spikeslist\u001b[39m>\u001b[39;49m\u001b[39m=\u001b[39;49minit, spikeslist\u001b[39m<\u001b[39m\u001b[39m=\u001b[39mend))]\n",
      "\u001b[0;31mTypeError\u001b[0m: '>=' not supported between instances of 'NoneType' and 'int'"
     ]
    }
   ],
   "source": [
    "amp_degree_left = subject.amp_count(data=pcg_left[\"data\"], spikeslist=pcg_left['spikeslist'], valleyslist=pcg_left[\"valleyslist\"], mode=\"AP\", spikeslist_af=pcg_left[\"spikeslist_af\"])\n",
    "amp_degree_right = subject.amp_count(data=pcg_right[\"data\"], spikeslist=pcg_right['spikeslist'], valleyslist=pcg_right[\"valleyslist\"], mode=\"AP\", spikeslist_af=pcg_right[\"spikeslist_af\"])\n",
    "print(amp_degree_left, amp_degree_right)\n"
   ]
  },
  {
   "cell_type": "code",
   "execution_count": null,
   "metadata": {},
   "outputs": [],
   "source": [
    "freq_num_left = subject.freq_count(data=pcg_left[\"data\"],spikeslist=pcg_left[\"spikeslist\"])\n",
    "freq_num_right = subject.freq_count(data=pcg_right[\"data\"],spikeslist=pcg_right[\"spikeslist\"])\n",
    "print(freq_num_left, freq_num_right)"
   ]
  },
  {
   "cell_type": "code",
   "execution_count": null,
   "metadata": {},
   "outputs": [],
   "source": [
    "delay_time = subject.phase_delay(data1=pcg_left[\"data\"], data2=pcg_right[\"data\"], spikeslist1=pcg_left[\"spikeslist\"], spikeslist2=pcg_right[\"spikeslist\"], valleyslist1=pcg_left['valleyslist'], valleyslist2=pcg_right[\"valleyslist\"], mode = \"SI\")\n",
    "print(delay_time)"
   ]
  }
 ],
 "metadata": {
  "kernelspec": {
   "display_name": "Python 3.8.12 ('tvbenv')",
   "language": "python",
   "name": "python3"
  },
  "language_info": {
   "codemirror_mode": {
    "name": "ipython",
    "version": 3
   },
   "file_extension": ".py",
   "mimetype": "text/x-python",
   "name": "python",
   "nbconvert_exporter": "python",
   "pygments_lexer": "ipython3",
   "version": "3.8.12"
  },
  "orig_nbformat": 4,
  "vscode": {
   "interpreter": {
    "hash": "e3aab1fa5f79352fecdf7fbbb0c622827de056aae1b7ef507c7f9c49073eb6da"
   }
  }
 },
 "nbformat": 4,
 "nbformat_minor": 2
}
