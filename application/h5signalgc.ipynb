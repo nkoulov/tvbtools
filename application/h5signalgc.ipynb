{
 "cells": [
  {
   "cell_type": "markdown",
   "metadata": {},
   "source": [
    "### Signal processing application in 3 mins long G critical simluated LFPs"
   ]
  },
  {
   "cell_type": "code",
   "execution_count": 1,
   "metadata": {},
   "outputs": [],
   "source": [
    "import pandas as pd\n",
    "import h5py\n",
    "import numpy as np\n",
    "import matplotlib.pyplot as plt\n",
    "import sys\n",
    "from scipy.signal import hilbert, chirp\n",
    "# import tools\n",
    "sys.path.append(\"/mnt/c/Users/wayne/tvb/tvbtools\")\n",
    "from tools.signalTools import signalToolkit\n",
    "import ipywidgets as widgets\n",
    "my_layout = widgets.Layout()\n",
    "plt.style.use('ggplot')\n",
    "%matplotlib inline"
   ]
  },
  {
   "cell_type": "code",
   "execution_count": null,
   "metadata": {},
   "outputs": [],
   "source": [
    "# import example data\n",
    "filename = \"/mnt/c/Users/wayne/tvb/gc3mins/SNC/2820A.h5\"\n",
    "subjects = signalToolkit(filename, 81920.)\n",
    "subjects.signalpreprocessing(channelNum = 5, filter = True, low=2.0, high=10.0, spikesDetection = True)\n",
    "%matplotlib widget\n",
    "subjects.psd(visual = True)"
   ]
  },
  {
   "cell_type": "code",
   "execution_count": null,
   "metadata": {},
   "outputs": [],
   "source": []
  },
  {
   "cell_type": "code",
   "execution_count": null,
   "metadata": {},
   "outputs": [],
   "source": [
    "%matplotlib widget\n",
    "filtered, N, delay = signalToolkit.fir_bandpass(dset[:,5], fs, 2.0, 8.)\n",
    "freqNum = signalToolkit.freqCount(filtered, 0.5, 81920., normalization = True, filter=False, visual=True)"
   ]
  },
  {
   "cell_type": "code",
   "execution_count": null,
   "metadata": {},
   "outputs": [],
   "source": [
    "%matplotlib widget\n",
    "filtered, N, delay = signalToolkit.fir_bandpass(dset[:,4], fs, 2.0, 8.)\n",
    "print(signalToolkit.ampCount(filtered, fs, mode='p20', normalization=True))"
   ]
  }
 ],
 "metadata": {
  "kernelspec": {
   "display_name": "Python 3.8.8 ('tvbenv')",
   "language": "python",
   "name": "python3"
  },
  "language_info": {
   "codemirror_mode": {
    "name": "ipython",
    "version": 3
   },
   "file_extension": ".py",
   "mimetype": "text/x-python",
   "name": "python",
   "nbconvert_exporter": "python",
   "pygments_lexer": "ipython3",
   "version": "3.8.13"
  },
  "orig_nbformat": 4,
  "vscode": {
   "interpreter": {
    "hash": "e6141da2187b0dd291c5d40d62fa288a95068b1f02ea308128319fec97065697"
   }
  }
 },
 "nbformat": 4,
 "nbformat_minor": 2
}
