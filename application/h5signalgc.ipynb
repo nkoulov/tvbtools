{
 "cells": [
  {
   "cell_type": "markdown",
   "metadata": {},
   "source": [
    "### Signal processing application in 3 mins long G critical simluated LFPs"
   ]
  },
  {
   "cell_type": "code",
   "execution_count": 1,
   "metadata": {},
   "outputs": [],
   "source": [
    "import pandas as pd\n",
    "import h5py\n",
    "import numpy as np\n",
    "import matplotlib.pyplot as plt\n",
    "import sys\n",
    "from scipy.signal import hilbert, chirp\n",
    "# import tools\n",
    "# sys.path.append(\"/mnt/c/Users/wayne/tvb/tvbtools\")\n",
    "sys.path.append(\"/mnt/w/github/tvbtools\")\n",
    "from tools.signaltools import SignalToolkit\n",
    "import ipywidgets as widgets\n",
    "my_layout = widgets.Layout()\n",
    "plt.style.use('ggplot')\n",
    "%matplotlib inline"
   ]
  },
  {
   "cell_type": "code",
   "execution_count": null,
   "metadata": {},
   "outputs": [],
   "source": [
    "# import example data\n",
    "# filename = \"/mnt/c/Users/wayne/tvb/gc3mins/SNC/2820A.h5\"\n",
    "filename = \"/mnt/w/go3mins/SNC/2820A.h5\"\n",
    "subjects = SignalToolkit(filename, fs=81920.)\n",
    "pcg_left_af, N, delay = subjects.signal_preprocessing(channel_num = 4, filter = True, low=2., high=10.)\n",
    "pcg_left = subjects.signal_preprocessing(channel_num=4, filter=False)\n",
    "pcg_right_af, _, _ = subjects.signal_preprocessing(channel_num = 5, filter = True, low=2., high=10.)\n",
    "pcg_right = subjects.signal_preprocessing(channel_num=5, filter=False)\n",
    "spikesparas = {'prominence': 0.5, 'height': 1}\n",
    "valleysparas = {'prominence': 1., 'width':3000, 'height': 0.}\n",
    "spikesparas_af = {'prominence': 0.5, 'width':3000, 'height': 0.}\n",
    "spikeslist, valleyslist = subjects.peaks_valleys(pcg_left, spikesparas,valleysparas)\n",
    "spikeslist_af, _ = subjects.peaks_valleys(pcg_left_af, spikesparas_af, valleysparas)\n",
    "%matplotlib widget\n"
   ]
  },
  {
   "cell_type": "code",
   "execution_count": null,
   "metadata": {},
   "outputs": [],
   "source": [
    "#subjects.freq_count(spikeslist=spikeslist, visual=True, data=rawpcgleft)"
   ]
  },
  {
   "cell_type": "code",
   "execution_count": null,
   "metadata": {},
   "outputs": [],
   "source": [
    "#subjects.psd(data = pcgleftAF, visual = True)"
   ]
  },
  {
   "cell_type": "code",
   "execution_count": null,
   "metadata": {},
   "outputs": [],
   "source": [
    "# subjects.signal_af(data=pcg_left, spikeslist=spikeslist, valleyslist=valleyslist, N=N, delay=delay, after_filtered=pcg_left_af, spikeslist_af=spikeslist_af, digit=111, time=None)\n",
    "\n",
    "subjects.phase_locking(visual=True, channel_num1 = 4, channel_num2=5, preproparas=)"
   ]
  }
 ],
 "metadata": {
  "kernelspec": {
   "display_name": "Python 3.8.12 ('tvbenv')",
   "language": "python",
   "name": "python3"
  },
  "language_info": {
   "codemirror_mode": {
    "name": "ipython",
    "version": 3
   },
   "file_extension": ".py",
   "mimetype": "text/x-python",
   "name": "python",
   "nbconvert_exporter": "python",
   "pygments_lexer": "ipython3",
   "version": "3.8.12"
  },
  "orig_nbformat": 4,
  "vscode": {
   "interpreter": {
    "hash": "e3aab1fa5f79352fecdf7fbbb0c622827de056aae1b7ef507c7f9c49073eb6da"
   }
  }
 },
 "nbformat": 4,
 "nbformat_minor": 2
}
