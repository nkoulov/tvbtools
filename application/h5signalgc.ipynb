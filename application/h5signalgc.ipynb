{
 "cells": [
  {
   "cell_type": "markdown",
   "metadata": {},
   "source": [
    "### Signal processing application in 3 mins long G critical simluated LFPs"
   ]
  },
  {
   "cell_type": "code",
   "execution_count": 2,
   "metadata": {},
   "outputs": [
    {
     "ename": "ModuleNotFoundError",
     "evalue": "No module named 'tvbtools'",
     "output_type": "error",
     "traceback": [
      "\u001b[0;31m---------------------------------------------------------------------------\u001b[0m",
      "\u001b[0;31mModuleNotFoundError\u001b[0m                       Traceback (most recent call last)",
      "\u001b[1;32m/mnt/w/github/tvbtools/application/h5signalgc.ipynb Cell 2'\u001b[0m in \u001b[0;36m<cell line: 10>\u001b[0;34m()\u001b[0m\n\u001b[1;32m      <a href='vscode-notebook-cell://wsl%2Bubuntu/mnt/w/github/tvbtools/application/h5signalgc.ipynb#ch0000001vscode-remote?line=5'>6</a>\u001b[0m \u001b[39mfrom\u001b[39;00m \u001b[39mscipy\u001b[39;00m\u001b[39m.\u001b[39;00m\u001b[39msignal\u001b[39;00m \u001b[39mimport\u001b[39;00m hilbert, chirp\n\u001b[1;32m      <a href='vscode-notebook-cell://wsl%2Bubuntu/mnt/w/github/tvbtools/application/h5signalgc.ipynb#ch0000001vscode-remote?line=6'>7</a>\u001b[0m \u001b[39m# import tools\u001b[39;00m\n\u001b[1;32m      <a href='vscode-notebook-cell://wsl%2Bubuntu/mnt/w/github/tvbtools/application/h5signalgc.ipynb#ch0000001vscode-remote?line=7'>8</a>\u001b[0m \u001b[39m# sys.path.append(\"/mnt/c/Users/wayne/tvb/tvbtools\")\u001b[39;00m\n\u001b[1;32m      <a href='vscode-notebook-cell://wsl%2Bubuntu/mnt/w/github/tvbtools/application/h5signalgc.ipynb#ch0000001vscode-remote?line=8'>9</a>\u001b[0m \u001b[39m# sys.path.append(\"/mnt/w/github/tvbtools\")\u001b[39;00m\n\u001b[0;32m---> <a href='vscode-notebook-cell://wsl%2Bubuntu/mnt/w/github/tvbtools/application/h5signalgc.ipynb#ch0000001vscode-remote?line=9'>10</a>\u001b[0m \u001b[39mfrom\u001b[39;00m \u001b[39mtvbtools\u001b[39;00m\u001b[39m.\u001b[39;00m\u001b[39mtools\u001b[39;00m\u001b[39m.\u001b[39;00m\u001b[39msignaltools\u001b[39;00m \u001b[39mimport\u001b[39;00m SignalToolkit\n\u001b[1;32m     <a href='vscode-notebook-cell://wsl%2Bubuntu/mnt/w/github/tvbtools/application/h5signalgc.ipynb#ch0000001vscode-remote?line=10'>11</a>\u001b[0m \u001b[39mimport\u001b[39;00m \u001b[39mipywidgets\u001b[39;00m \u001b[39mas\u001b[39;00m \u001b[39mwidgets\u001b[39;00m\n\u001b[1;32m     <a href='vscode-notebook-cell://wsl%2Bubuntu/mnt/w/github/tvbtools/application/h5signalgc.ipynb#ch0000001vscode-remote?line=11'>12</a>\u001b[0m my_layout \u001b[39m=\u001b[39m widgets\u001b[39m.\u001b[39mLayout()\n",
      "\u001b[0;31mModuleNotFoundError\u001b[0m: No module named 'tvbtools'"
     ]
    }
   ],
   "source": [
    "import pandas as pd\n",
    "import h5py\n",
    "import numpy as np\n",
    "import matplotlib.pyplot as plt\n",
    "import sys\n",
    "from scipy.signal import hilbert, chirp\n",
    "# import tools\n",
    "# sys.path.append(\"/mnt/c/Users/wayne/tvb/tvbtools\")\n",
    "# sys.path.append(\"/mnt/w/github/tvbtools\")\n",
    "from tvbtools.tools.signaltools import SignalToolkit\n",
    "import ipywidgets as widgets\n",
    "my_layout = widgets.Layout()\n",
    "plt.style.use('ggplot')\n",
    "%matplotlib inline"
   ]
  },
  {
   "cell_type": "code",
   "execution_count": null,
   "metadata": {},
   "outputs": [],
   "source": [
    "# import example data\n",
    "# filename = \"/mnt/c/Users/wayne/tvb/gc3mins/SNC/2820A.h5\"\n",
    "filename = \"/mnt/w/gc3mins/SNC/2820A.h5\"\n",
    "# create an instance\n",
    "subject = SignalToolkit(filename, fs=81920.)\n",
    "dset = subject.hdf5_reader()\n",
    "# indexing the pcg regions\n",
    "\n",
    "spikesparas = {'prominence': 0.5, 'height': .5}\n",
    "valleysparas= {'prominence': 1., 'width':3000, 'height': 0.}\n",
    "spikesparas_af= {'prominence': 0.5, 'width':3000, 'height': 0.}\n",
    "\n",
    "\n",
    "pcg_left = subject.signal_package(dset, 4, 'pcg_left', 2.0, 3.0, True, spikesparas, valleysparas,spikesparas_af)\n",
    "pcg_right = subject.signal_package(dset, 5, 'pcg_right', 2.0, 3.0,True, spikesparas, valleysparas,spikesparas_af)"
   ]
  },
  {
   "cell_type": "code",
   "execution_count": null,
   "metadata": {},
   "outputs": [],
   "source": [
    "# %matplotlib widget\n",
    "# fig = plt.figure(figsize=(15,5))\n",
    "# axes = fig.add_subplot(111)\n",
    "# axes = subject.signal_af(axes=axes, **pcg_left)\n",
    "# subject.signal_af(axes=axes, **pcg_right)\n",
    "# axes.set_title(\"pcg\")\n",
    "# axes.legend()\n",
    "# plt.show()"
   ]
  },
  {
   "cell_type": "code",
   "execution_count": null,
   "metadata": {},
   "outputs": [],
   "source": [
    "subject.phase_locking(pcg_left[\"after_filtered\"], pcg_right[\"after_filtered\"], visual=False)"
   ]
  },
  {
   "cell_type": "code",
   "execution_count": null,
   "metadata": {},
   "outputs": [],
   "source": [
    "amp_dergee = subject.amp_count(data=pcg_left[\"data\"], spikeslist=pcg_left['spikeslist'], valleyslist=pcg_left[\"valleyslist\"], mode=\"p2v\")\n"
   ]
  },
  {
   "cell_type": "code",
   "execution_count": null,
   "metadata": {},
   "outputs": [],
   "source": [
    "freq_num = subject.freq_count(spikeslist=pcg_left[\"spikeslist\"])"
   ]
  },
  {
   "cell_type": "code",
   "execution_count": null,
   "metadata": {},
   "outputs": [],
   "source": [
    "delay_time = subject.phase_delay(data1=pcg_left[\"data\"], data2=pcg_right[\"data\"], spikeslist1=pcg_left[\"spikeslist\"], spikeslist2=pcg_right[\"spikeslist\"], valleyslist1=pcg_left['valleyslist'], valleyslist2=pcg_right[\"valleyslist\"], mode = \"SI\")\n"
   ]
  }
 ],
 "metadata": {
  "kernelspec": {
   "display_name": "Python 3.8.12 ('tvbenv')",
   "language": "python",
   "name": "python3"
  },
  "language_info": {
   "codemirror_mode": {
    "name": "ipython",
    "version": 3
   },
   "file_extension": ".py",
   "mimetype": "text/x-python",
   "name": "python",
   "nbconvert_exporter": "python",
   "pygments_lexer": "ipython3",
   "version": "3.8.12"
  },
  "orig_nbformat": 4,
  "vscode": {
   "interpreter": {
    "hash": "e3aab1fa5f79352fecdf7fbbb0c622827de056aae1b7ef507c7f9c49073eb6da"
   }
  }
 },
 "nbformat": 4,
 "nbformat_minor": 2
}
