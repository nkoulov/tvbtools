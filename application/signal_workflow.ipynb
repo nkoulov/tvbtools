{
 "cells": [
  {
   "cell_type": "code",
   "execution_count": null,
   "metadata": {},
   "outputs": [],
   "source": [
    "import sys\n",
    "# sys.path.append('/mnt/c/Users/wayne/tvb/tvbtools/')\n",
    "sys.path.append('/mnt/w/github/tvbtools/')\n",
    "from tvbtools.signaltools import SignalToolkit\n",
    "import numpy as np\n",
    "import pandas as pd\n",
    "import matplotlib.pyplot as plt\n",
    "import ipywidgets as widgets\n",
    "my_layout = widgets.Layout()\n",
    "plt.style.use('ggplot')\n",
    "import os"
   ]
  },
  {
   "cell_type": "code",
   "execution_count": null,
   "metadata": {},
   "outputs": [],
   "source": [
    "node_names = ['aCNG-L', 'aCNG-R','mCNG-L','mCNG-R','pCNG-L','pCNG-R', 'HIP-L','HIP-R','PHG-L','PHG-R','AMY-L','AMY-R', 'sTEMp-L','sTEMp-R','mTEMp-L','mTEMp-R']\n",
    "fs = 81920.0\n",
    "samplinginterval = 1/fs\n",
    "t = np.arange(0, 1, samplinginterval)\n",
    "grps = ['SNC','NC','MCI','AD']\n",
    "col = [\"#66CDAA\",\"#4682B4\",\"#AB63FA\",\"#FFA15A\"]\n",
    "path = '/mnt/w/Gc_Go.xlsx'\n",
    "# path = '/mnt/c/Users/Wayne/tvb/stat_data/Gc_Go.xlsx'\n",
    "coData = pd.read_excel(path)\n",
    "\n",
    "def read_data(grp, caseid, amp='p2v'):\n",
    "    #gm = np.round(coData.loc[caseid, \"Gc\"], 3)\n",
    "    # filename = '/mnt/d/data/LFP/'+str(grp)+'/'+str(caseid)+'/'+str(caseid)+'_'+str(gm)+'.csv'\n",
    "    filename = '/mnt/w/gc3mins/'+grp+'/'+caseid+'.h5'\n",
    "    subject = SignalToolkit(filename, 81920.)\n",
    "    df = subject.data_reader()\n",
    "\n",
    "    cutoff_low = 2.\n",
    "    cutoff_high = 10.\n",
    "    spikesparas = {'prominence': 0.5, 'height': .5}\n",
    "    valleysparas= {'prominence': 0.2, 'width':2000, 'height': -0.5}\n",
    "    spikesparas_af= {'prominence': 0.2, 'width':2000, 'height': 0.}\n",
    "    valleysparas_af = {'prominence': 0.2, 'width':2000, 'height': -0.5}\n",
    "\n",
    "    pcgl=subject.signal_package(data=df, channel_num = 4, label='pcg_left', low=cutoff_low, high=cutoff_high, spikesparas=spikesparas, valleysparas=valleysparas, spikesparas_af=spikesparas_af, valleysparas_af = valleysparas, truncate=10.)\n",
    "    pcgr=subject.signal_package(data=df, channel_num = 5, label='pcg_right', low=cutoff_low, high=cutoff_high, spikesparas=spikesparas, valleysparas=valleysparas, spikesparas_af=spikesparas_af, valleysparas_af=valleysparas_af, truncate=10.)\n",
    "\n",
    "    fig = plt.figure(figsize=(15,5))\n",
    "    axes = fig.add_subplot(111)\n",
    "    axes.set_title(f\"{grp}_{caseid}\")\n",
    "    subject.signal_af(**pcgl, axes=axes)\n",
    "    subject.signal_af(**pcgr, axes=axes)\n",
    "    plt.legend()\n",
    "    plt.show()\n",
    "\n",
    "    # freq\n",
    "    pcgl_freq_gamma = subject.freq_count(pcgl[\"spikeslist\"])\n",
    "    pcgr_freq_gamma = subject.freq_count(pcgr[\"spikeslist\"])\n",
    "    pcgl_freq_theta = subject.freq_count(pcgl[\"spikeslist_af\"])\n",
    "    pcgr_freq_theta = subject.freq_count(pcgr[\"spikeslist_af\"])\n",
    "\n",
    "    # amp\n",
    "    if amp in ['p2v']:\n",
    "        pcgl_amp_gamma = subject.amp_count(**pcgl, mode=\"p2v\")\n",
    "        pcgr_amp_gamma = subject.amp_count(**pcgr, mode=\"p2v\")\n",
    "        pcgl_amp_theta = subject.amp_count(data=pcgl[\"after_filtered\"], spikeslist=pcgl[\"spikeslist_af\"], valleyslist=pcgl[\"valleyslist_af\"], mode=\"p2v\")\n",
    "        pcgr_amp_theta = subject.amp_count(data=pcgr[\"after_filtered\"], spikeslist=pcgr[\"spikeslist_af\"], valleyslist=pcgr[\"valleyslist_af\"], mode=\"p2v\")\n",
    "    elif amp in ['ap']:\n",
    "        # another version of amp\n",
    "        pcgl_amp_gamma, pcgl_amp_theta = subject.amp_count(**pcgl, mode=\"ap\")\n",
    "        pcgr_amp_gamma, pcgr_amp_theta = subject.amp_count(**pcgr, mode=\"ap\")\n",
    "\n",
    "\n",
    "    # delay\n",
    "    pcg_delay = subject.phase_delay(pcgl[\"after_filtered\"], pcgr[\"after_filtered\"], pcgl[\"spikeslist_af\"], pcgl[\"valleyslist_af\"], pcgr[\"spikeslist_af\"], pcgr[\"valleyslist_af\"], mode = \"SI\")\n",
    "\n",
    "    res_dict = {\"group\":grp, \n",
    "    \"caseid\":caseid, \n",
    "    \"pcgl_freq_gamma\":pcgl_freq_gamma,\n",
    "    \"pcgr_freq_gamma\":pcgr_freq_gamma,\n",
    "    \"pcgl_freq_theta\":pcgl_freq_theta,\n",
    "    \"pcgr_freq_theta\":pcgr_freq_theta,\n",
    "    \"pcgl_amp_gamma\":pcgl_amp_gamma,\n",
    "    \"pcgr_amp_gamma\":pcgr_amp_gamma,\n",
    "    \"pcgl_amp_theta\":pcgl_amp_theta,\n",
    "    \"pcgr_amp_theta\":pcgr_amp_theta,\n",
    "    \"pcg_delay\":pcg_delay}\n",
    "    return res_dict\n",
    "\n",
    "    # fig = plt.figure(figsize=(15,5))\n",
    "    # axes = fig.add_subplot(111)\n",
    "    # for i in range(16):\n",
    "    #     _, power = subject.psd(df[:,i], sampling_interval = 1/fs, visual=True, xlim=100., axes=axes, label=f\"{node_names[i]}\")\n",
    "    #     if i == 4:\n",
    "    #         highest_pcg_left = np.argmax(power)\n",
    "    #     if i == 5:\n",
    "    #         highest_pcg_right = np.argmax(power)\n",
    "    # axes.set_title(f\"{grp}_{caseid}\")\n",
    "    # plt.savefig(f\"/mnt/c/Users/wayne/tvb/psdres/{grp}_{caseid}.png\", dpi=300)\n",
    "    # return highest_pcg_left, highest_pcg_right"
   ]
  },
  {
   "cell_type": "code",
   "execution_count": 3,
   "metadata": {},
   "outputs": [
    {
     "ename": "KeyboardInterrupt",
     "evalue": "",
     "output_type": "error",
     "traceback": [
      "\u001b[0;31m---------------------------------------------------------------------------\u001b[0m",
      "\u001b[0;31mKeyboardInterrupt\u001b[0m                         Traceback (most recent call last)",
      "\u001b[1;32m/mnt/w/github/tvbtools/application/signal_workflow.ipynb Cell 3'\u001b[0m in \u001b[0;36m<cell line: 6>\u001b[0;34m()\u001b[0m\n\u001b[1;32m      <a href='vscode-notebook-cell://wsl%2Bubuntu/mnt/w/github/tvbtools/application/signal_workflow.ipynb#ch0000002vscode-remote?line=5'>6</a>\u001b[0m \u001b[39mfor\u001b[39;00m grp, caseid \u001b[39min\u001b[39;00m \u001b[39mzip\u001b[39m(coData\u001b[39m.\u001b[39mgroups, coData\u001b[39m.\u001b[39mcaseid):\n\u001b[1;32m      <a href='vscode-notebook-cell://wsl%2Bubuntu/mnt/w/github/tvbtools/application/signal_workflow.ipynb#ch0000002vscode-remote?line=6'>7</a>\u001b[0m     \u001b[39mif\u001b[39;00m count \u001b[39m<\u001b[39m\u001b[39m=\u001b[39m\u001b[39m1\u001b[39m:\n\u001b[0;32m----> <a href='vscode-notebook-cell://wsl%2Bubuntu/mnt/w/github/tvbtools/application/signal_workflow.ipynb#ch0000002vscode-remote?line=7'>8</a>\u001b[0m         \u001b[39mprint\u001b[39m(read_data(grp, caseid))\n\u001b[1;32m      <a href='vscode-notebook-cell://wsl%2Bubuntu/mnt/w/github/tvbtools/application/signal_workflow.ipynb#ch0000002vscode-remote?line=8'>9</a>\u001b[0m         count \u001b[39m+\u001b[39m\u001b[39m=\u001b[39m \u001b[39m1\u001b[39m\n\u001b[1;32m     <a href='vscode-notebook-cell://wsl%2Bubuntu/mnt/w/github/tvbtools/application/signal_workflow.ipynb#ch0000002vscode-remote?line=9'>10</a>\u001b[0m     \u001b[39melse\u001b[39;00m:\n",
      "\u001b[1;32m/mnt/w/github/tvbtools/application/signal_workflow.ipynb Cell 3'\u001b[0m in \u001b[0;36mread_data\u001b[0;34m(grp, caseid, amp)\u001b[0m\n\u001b[1;32m     <a href='vscode-notebook-cell://wsl%2Bubuntu/mnt/w/github/tvbtools/application/signal_workflow.ipynb#ch0000002vscode-remote?line=28'>29</a>\u001b[0m axes \u001b[39m=\u001b[39m fig\u001b[39m.\u001b[39madd_subplot(\u001b[39m111\u001b[39m)\n\u001b[1;32m     <a href='vscode-notebook-cell://wsl%2Bubuntu/mnt/w/github/tvbtools/application/signal_workflow.ipynb#ch0000002vscode-remote?line=29'>30</a>\u001b[0m axes\u001b[39m.\u001b[39mset_title(\u001b[39mf\u001b[39m\u001b[39m\"\u001b[39m\u001b[39m{\u001b[39;00mgrp\u001b[39m}\u001b[39;00m\u001b[39m_\u001b[39m\u001b[39m{\u001b[39;00mcaseid\u001b[39m}\u001b[39;00m\u001b[39m\"\u001b[39m)\n\u001b[0;32m---> <a href='vscode-notebook-cell://wsl%2Bubuntu/mnt/w/github/tvbtools/application/signal_workflow.ipynb#ch0000002vscode-remote?line=30'>31</a>\u001b[0m subject\u001b[39m.\u001b[39;49msignal_af(\u001b[39m*\u001b[39;49m\u001b[39m*\u001b[39;49mpcgl, axes\u001b[39m=\u001b[39;49maxes)\n\u001b[1;32m     <a href='vscode-notebook-cell://wsl%2Bubuntu/mnt/w/github/tvbtools/application/signal_workflow.ipynb#ch0000002vscode-remote?line=31'>32</a>\u001b[0m subject\u001b[39m.\u001b[39msignal_af(\u001b[39m*\u001b[39m\u001b[39m*\u001b[39mpcgr, axes\u001b[39m=\u001b[39maxes)\n\u001b[1;32m     <a href='vscode-notebook-cell://wsl%2Bubuntu/mnt/w/github/tvbtools/application/signal_workflow.ipynb#ch0000002vscode-remote?line=32'>33</a>\u001b[0m plt\u001b[39m.\u001b[39mlegend()\n",
      "File \u001b[0;32m/mnt/w/github/tvbtools/tvbtools/signaltools.py:275\u001b[0m, in \u001b[0;36mSignalToolkit.signal_af\u001b[0;34m(self, axes, data, spikeslist, valleyslist, N, delay, after_filtered, spikeslist_af, valleyslist_af, digit, time, label, **kwargs)\u001b[0m\n\u001b[1;32m    273\u001b[0m axes\u001b[39m.\u001b[39mplot(spikeslist\u001b[39m/\u001b[39m\u001b[39mself\u001b[39m\u001b[39m.\u001b[39mfs, data[spikeslist], \u001b[39m'\u001b[39m\u001b[39m+\u001b[39m\u001b[39m'\u001b[39m, label \u001b[39m=\u001b[39m \u001b[39m\"\u001b[39m\u001b[39msignal spikes\u001b[39m\u001b[39m\"\u001b[39m)\n\u001b[1;32m    274\u001b[0m axes\u001b[39m.\u001b[39mplot(valleyslist_af[valleyslist_af \u001b[39m>\u001b[39m N\u001b[39m-\u001b[39m\u001b[39m1\u001b[39m]\u001b[39m/\u001b[39m\u001b[39mself\u001b[39m\u001b[39m.\u001b[39mfs\u001b[39m-\u001b[39mdelay, after_filtered[valleyslist_af[valleyslist_af \u001b[39m>\u001b[39m N\u001b[39m-\u001b[39m\u001b[39m1\u001b[39m]], \u001b[39m'\u001b[39m\u001b[39mo\u001b[39m\u001b[39m'\u001b[39m, label \u001b[39m=\u001b[39m \u001b[39m\"\u001b[39m\u001b[39mfiltered valleys\u001b[39m\u001b[39m\"\u001b[39m)\n\u001b[0;32m--> 275\u001b[0m axes\u001b[39m.\u001b[39;49mplot(time[N\u001b[39m-\u001b[39;49m\u001b[39m1\u001b[39;49m:]\u001b[39m-\u001b[39;49mdelay, after_filtered[N\u001b[39m-\u001b[39;49m\u001b[39m1\u001b[39;49m:], label \u001b[39m=\u001b[39;49m \u001b[39m\"\u001b[39;49m\u001b[39mfiltered signal\u001b[39;49m\u001b[39m\"\u001b[39;49m)\n\u001b[1;32m    276\u001b[0m \u001b[39mif\u001b[39;00m \u001b[39mlen\u001b[39m(spikeslist_af) \u001b[39m>\u001b[39m \u001b[39m0\u001b[39m:\n\u001b[1;32m    277\u001b[0m     axes\u001b[39m.\u001b[39mplot(spikeslist_af[spikeslist_af \u001b[39m>\u001b[39m N\u001b[39m-\u001b[39m\u001b[39m1\u001b[39m]\u001b[39m/\u001b[39m\u001b[39mself\u001b[39m\u001b[39m.\u001b[39mfs \u001b[39m-\u001b[39m delay, after_filtered[spikeslist_af[spikeslist_af \u001b[39m>\u001b[39m N\u001b[39m-\u001b[39m\u001b[39m1\u001b[39m]],\u001b[39m'\u001b[39m\u001b[39mx\u001b[39m\u001b[39m'\u001b[39m, label \u001b[39m=\u001b[39m \u001b[39m\"\u001b[39m\u001b[39mfiltered spikes\u001b[39m\u001b[39m\"\u001b[39m)\n",
      "File \u001b[0;32m~/miniconda3/envs/tvbenv/lib/python3.8/site-packages/matplotlib/axes/_axes.py:1634\u001b[0m, in \u001b[0;36mAxes.plot\u001b[0;34m(self, scalex, scaley, data, *args, **kwargs)\u001b[0m\n\u001b[1;32m   1632\u001b[0m lines \u001b[39m=\u001b[39m [\u001b[39m*\u001b[39m\u001b[39mself\u001b[39m\u001b[39m.\u001b[39m_get_lines(\u001b[39m*\u001b[39margs, data\u001b[39m=\u001b[39mdata, \u001b[39m*\u001b[39m\u001b[39m*\u001b[39mkwargs)]\n\u001b[1;32m   1633\u001b[0m \u001b[39mfor\u001b[39;00m line \u001b[39min\u001b[39;00m lines:\n\u001b[0;32m-> 1634\u001b[0m     \u001b[39mself\u001b[39;49m\u001b[39m.\u001b[39;49madd_line(line)\n\u001b[1;32m   1635\u001b[0m \u001b[39mself\u001b[39m\u001b[39m.\u001b[39m_request_autoscale_view(scalex\u001b[39m=\u001b[39mscalex, scaley\u001b[39m=\u001b[39mscaley)\n\u001b[1;32m   1636\u001b[0m \u001b[39mreturn\u001b[39;00m lines\n",
      "File \u001b[0;32m~/miniconda3/envs/tvbenv/lib/python3.8/site-packages/matplotlib/axes/_base.py:2283\u001b[0m, in \u001b[0;36m_AxesBase.add_line\u001b[0;34m(self, line)\u001b[0m\n\u001b[1;32m   2280\u001b[0m \u001b[39mif\u001b[39;00m line\u001b[39m.\u001b[39mget_clip_path() \u001b[39mis\u001b[39;00m \u001b[39mNone\u001b[39;00m:\n\u001b[1;32m   2281\u001b[0m     line\u001b[39m.\u001b[39mset_clip_path(\u001b[39mself\u001b[39m\u001b[39m.\u001b[39mpatch)\n\u001b[0;32m-> 2283\u001b[0m \u001b[39mself\u001b[39;49m\u001b[39m.\u001b[39;49m_update_line_limits(line)\n\u001b[1;32m   2284\u001b[0m \u001b[39mif\u001b[39;00m \u001b[39mnot\u001b[39;00m line\u001b[39m.\u001b[39mget_label():\n\u001b[1;32m   2285\u001b[0m     line\u001b[39m.\u001b[39mset_label(\u001b[39mf\u001b[39m\u001b[39m'\u001b[39m\u001b[39m_child\u001b[39m\u001b[39m{\u001b[39;00m\u001b[39mlen\u001b[39m(\u001b[39mself\u001b[39m\u001b[39m.\u001b[39m_children)\u001b[39m}\u001b[39;00m\u001b[39m'\u001b[39m)\n",
      "File \u001b[0;32m~/miniconda3/envs/tvbenv/lib/python3.8/site-packages/matplotlib/axes/_base.py:2306\u001b[0m, in \u001b[0;36m_AxesBase._update_line_limits\u001b[0;34m(self, line)\u001b[0m\n\u001b[1;32m   2302\u001b[0m \u001b[39mdef\u001b[39;00m \u001b[39m_update_line_limits\u001b[39m(\u001b[39mself\u001b[39m, line):\n\u001b[1;32m   2303\u001b[0m     \u001b[39m\"\"\"\u001b[39;00m\n\u001b[1;32m   2304\u001b[0m \u001b[39m    Figures out the data limit of the given line, updating self.dataLim.\u001b[39;00m\n\u001b[1;32m   2305\u001b[0m \u001b[39m    \"\"\"\u001b[39;00m\n\u001b[0;32m-> 2306\u001b[0m     path \u001b[39m=\u001b[39m line\u001b[39m.\u001b[39;49mget_path()\n\u001b[1;32m   2307\u001b[0m     \u001b[39mif\u001b[39;00m path\u001b[39m.\u001b[39mvertices\u001b[39m.\u001b[39msize \u001b[39m==\u001b[39m \u001b[39m0\u001b[39m:\n\u001b[1;32m   2308\u001b[0m         \u001b[39mreturn\u001b[39;00m\n",
      "File \u001b[0;32m~/miniconda3/envs/tvbenv/lib/python3.8/site-packages/matplotlib/lines.py:999\u001b[0m, in \u001b[0;36mLine2D.get_path\u001b[0;34m(self)\u001b[0m\n\u001b[1;32m    997\u001b[0m \u001b[39m\"\"\"Return the `~matplotlib.path.Path` associated with this line.\"\"\"\u001b[39;00m\n\u001b[1;32m    998\u001b[0m \u001b[39mif\u001b[39;00m \u001b[39mself\u001b[39m\u001b[39m.\u001b[39m_invalidy \u001b[39mor\u001b[39;00m \u001b[39mself\u001b[39m\u001b[39m.\u001b[39m_invalidx:\n\u001b[0;32m--> 999\u001b[0m     \u001b[39mself\u001b[39;49m\u001b[39m.\u001b[39;49mrecache()\n\u001b[1;32m   1000\u001b[0m \u001b[39mreturn\u001b[39;00m \u001b[39mself\u001b[39m\u001b[39m.\u001b[39m_path\n",
      "File \u001b[0;32m~/miniconda3/envs/tvbenv/lib/python3.8/site-packages/matplotlib/lines.py:661\u001b[0m, in \u001b[0;36mLine2D.recache\u001b[0;34m(self, always)\u001b[0m\n\u001b[1;32m    658\u001b[0m \u001b[39melse\u001b[39;00m:\n\u001b[1;32m    659\u001b[0m     y \u001b[39m=\u001b[39m \u001b[39mself\u001b[39m\u001b[39m.\u001b[39m_y\n\u001b[0;32m--> 661\u001b[0m \u001b[39mself\u001b[39m\u001b[39m.\u001b[39m_xy \u001b[39m=\u001b[39m np\u001b[39m.\u001b[39;49mcolumn_stack(np\u001b[39m.\u001b[39;49mbroadcast_arrays(x, y))\u001b[39m.\u001b[39mastype(\u001b[39mfloat\u001b[39m)\n\u001b[1;32m    662\u001b[0m \u001b[39mself\u001b[39m\u001b[39m.\u001b[39m_x, \u001b[39mself\u001b[39m\u001b[39m.\u001b[39m_y \u001b[39m=\u001b[39m \u001b[39mself\u001b[39m\u001b[39m.\u001b[39m_xy\u001b[39m.\u001b[39mT  \u001b[39m# views\u001b[39;00m\n\u001b[1;32m    664\u001b[0m \u001b[39mself\u001b[39m\u001b[39m.\u001b[39m_subslice \u001b[39m=\u001b[39m \u001b[39mFalse\u001b[39;00m\n",
      "File \u001b[0;32m<__array_function__ internals>:5\u001b[0m, in \u001b[0;36mcolumn_stack\u001b[0;34m(*args, **kwargs)\u001b[0m\n",
      "File \u001b[0;32m~/miniconda3/envs/tvbenv/lib/python3.8/site-packages/numpy/lib/shape_base.py:656\u001b[0m, in \u001b[0;36mcolumn_stack\u001b[0;34m(tup)\u001b[0m\n\u001b[1;32m    654\u001b[0m         arr \u001b[39m=\u001b[39m array(arr, copy\u001b[39m=\u001b[39m\u001b[39mFalse\u001b[39;00m, subok\u001b[39m=\u001b[39m\u001b[39mTrue\u001b[39;00m, ndmin\u001b[39m=\u001b[39m\u001b[39m2\u001b[39m)\u001b[39m.\u001b[39mT\n\u001b[1;32m    655\u001b[0m     arrays\u001b[39m.\u001b[39mappend(arr)\n\u001b[0;32m--> 656\u001b[0m \u001b[39mreturn\u001b[39;00m _nx\u001b[39m.\u001b[39;49mconcatenate(arrays, \u001b[39m1\u001b[39;49m)\n",
      "File \u001b[0;32m<__array_function__ internals>:5\u001b[0m, in \u001b[0;36mconcatenate\u001b[0;34m(*args, **kwargs)\u001b[0m\n",
      "\u001b[0;31mKeyboardInterrupt\u001b[0m: "
     ]
    }
   ],
   "source": [
    "%matplotlib widget\n",
    "# print(coData)\n",
    "read_data('NC', \"0591A\")\n",
    "# df = pd.DataFrame(columns=[\"group\", \"caseid\", \"pcg_left_power\", \"pcg_right_power\"])\n",
    "# for grp, caseid in zip(coData.groups, coData.caseid):\n",
    "#         print(read_data(grp, caseid))\n",
    "#     df = pd.concat([df, pd.DataFrame.from_records([{\"group\": grp, \"caseid\":caseid,\"pcg_left_power\":pcgl, \"pcg_right_power\": pcgr}])], ignore_index = True)\n",
    "# df.to_excel('/mnt/c/Users/wayne/tvb/psd_data.xlsx')"
   ]
  }
 ],
 "metadata": {
  "kernelspec": {
   "display_name": "Python 3.8.12 ('tvbenv')",
   "language": "python",
   "name": "python3"
  },
  "language_info": {
   "codemirror_mode": {
    "name": "ipython",
    "version": 3
   },
   "file_extension": ".py",
   "mimetype": "text/x-python",
   "name": "python",
   "nbconvert_exporter": "python",
   "pygments_lexer": "ipython3",
   "version": "3.8.12"
  },
  "orig_nbformat": 4,
  "vscode": {
   "interpreter": {
    "hash": "e3aab1fa5f79352fecdf7fbbb0c622827de056aae1b7ef507c7f9c49073eb6da"
   }
  }
 },
 "nbformat": 4,
 "nbformat_minor": 2
}
