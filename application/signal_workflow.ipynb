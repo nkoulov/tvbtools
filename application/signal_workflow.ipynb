{
 "cells": [
  {
   "cell_type": "code",
   "execution_count": 1,
   "metadata": {},
   "outputs": [],
   "source": [
    "import sys\n",
    "# sys.path.append('/mnt/c/Users/wayne/tvb/tvbtools/')\n",
    "sys.path.append('/mnt/w/github/tvbtools/')\n",
    "from tvbtools.signaltools import SignalToolkit\n",
    "import numpy as np\n",
    "import pandas as pd\n",
    "import matplotlib.pyplot as plt\n",
    "import ipywidgets as widgets\n",
    "my_layout = widgets.Layout()\n",
    "plt.style.use('ggplot')\n",
    "import os"
   ]
  },
  {
   "cell_type": "code",
   "execution_count": 2,
   "metadata": {},
   "outputs": [],
   "source": [
    "node_names = ['aCNG-L', 'aCNG-R','mCNG-L','mCNG-R','pCNG-L','pCNG-R', 'HIP-L','HIP-R','PHG-L','PHG-R','AMY-L','AMY-R', 'sTEMp-L','sTEMp-R','mTEMp-L','mTEMp-R']\n",
    "fs = 81920.0\n",
    "samplinginterval = 1/fs\n",
    "t = np.arange(0, 1, samplinginterval)\n",
    "grps = ['SNC','NC','MCI','AD']\n",
    "col = [\"#66CDAA\",\"#4682B4\",\"#AB63FA\",\"#FFA15A\"]\n",
    "path = '/mnt/w/Gc_Go.xlsx'\n",
    "# path = '/mnt/c/Users/Wayne/tvb/stat_data/Gc_Go.xlsx'\n",
    "coData = pd.read_excel(path)\n",
    "\n",
    "def read_data(grp, caseid, amp='p2v'):\n",
    "    #gm = np.round(coData.loc[caseid, \"Gc\"], 3)\n",
    "    # filename = '/mnt/d/data/LFP/'+str(grp)+'/'+str(caseid)+'/'+str(caseid)+'_'+str(gm)+'.csv'\n",
    "    filename = '/mnt/w/gc3mins/'+grp+'/'+caseid+'.h5'\n",
    "    subject = SignalToolkit(filename, 81920.)\n",
    "    df = subject.data_reader()\n",
    "\n",
    "    cutoff_low = 2.\n",
    "    cutoff_high = 10.\n",
    "    spikesparas = {'prominence': 0.5, 'height': .5}\n",
    "    valleysparas= {'prominence': 0.2, 'width':2000, 'height': -0.5}\n",
    "    spikesparas_af= {'prominence': 0.2, 'width':2000, 'height': 0.}\n",
    "    valleysparas_af = {'prominence': 0.2, 'width':2000, 'height': -0.5}\n",
    "\n",
    "    pcgl=subject.signal_package(data=df, channel_num = 4, label='pcg_left', low=cutoff_low, high=cutoff_high, spikesparas=spikesparas, valleysparas=valleysparas, spikesparas_af=spikesparas_af, valleysparas_af = valleysparas, truncate=10.)\n",
    "    pcgr=subject.signal_package(data=df, channel_num = 5, label='pcg_right', low=cutoff_low, high=cutoff_high, spikesparas=spikesparas, valleysparas=valleysparas, spikesparas_af=spikesparas_af, valleysparas_af=valleysparas_af, truncate=10.)\n",
    "\n",
    "    fig = plt.figure(figsize=(15,5))\n",
    "    axes = fig.add_subplot(111)\n",
    "    axes.set_title(f\"{grp}_{caseid}\")\n",
    "    subject.signal_af(**pcgl, axes=axes)\n",
    "    subject.signal_af(**pcgr, axes=axes)\n",
    "    plt.legend()\n",
    "    plt.show()\n",
    "\n",
    "    # freq\n",
    "    pcgl_freq_gamma = subject.freq_count(pcgl[\"spikeslist\"])\n",
    "    pcgr_freq_gamma = subject.freq_count(pcgr[\"spikeslist\"])\n",
    "    pcgl_freq_theta = subject.freq_count(pcgl[\"spikeslist_af\"])\n",
    "    pcgr_freq_theta = subject.freq_count(pcgr[\"spikeslist_af\"])\n",
    "\n",
    "    # amp\n",
    "    if amp in ['p2v']:\n",
    "        pcgl_amp_gamma = subject.amp_count(**pcgl, mode=\"p2v\")\n",
    "        pcgr_amp_gamma = subject.amp_count(**pcgr, mode=\"p2v\")\n",
    "        pcgl_amp_theta = subject.amp_count(data=pcgl[\"after_filtered\"], spikeslist=pcgl[\"spikeslist_af\"], valleyslist=pcgl[\"valleyslist_af\"], mode=\"p2v\")\n",
    "        pcgr_amp_theta = subject.amp_count(data=pcgr[\"after_filtered\"], spikeslist=pcgr[\"spikeslist_af\"], valleyslist=pcgr[\"valleyslist_af\"], mode=\"p2v\")\n",
    "    elif amp in ['ap']:\n",
    "        # another version of amp\n",
    "        pcgl_amp_gamma, pcgl_amp_theta = subject.amp_count(**pcgl, mode=\"ap\")\n",
    "        pcgr_amp_gamma, pcgr_amp_theta = subject.amp_count(**pcgr, mode=\"ap\")\n",
    "\n",
    "\n",
    "    # delay\n",
    "    pcg_delay = subject.phase_delay(pcgl[\"after_filtered\"], pcgr[\"after_filtered\"], pcgl[\"spikeslist_af\"], pcgl[\"valleyslist_af\"], pcgr[\"spikeslist_af\"], pcgr[\"valleyslist_af\"], mode = \"SI\")\n",
    "\n",
    "    res_dict = {\"group\":grp, \n",
    "    \"caseid\":caseid, \n",
    "    \"pcgl_freq_gamma\":pcgl_freq_gamma,\n",
    "    \"pcgr_freq_gamma\":pcgr_freq_gamma,\n",
    "    \"pcgl_freq_theta\":pcgl_freq_theta,\n",
    "    \"pcgr_freq_theta\":pcgr_freq_theta,\n",
    "    \"pcgl_amp_gamma\":pcgl_amp_gamma,\n",
    "    \"pcgr_amp_gamma\":pcgr_amp_gamma,\n",
    "    \"pcgl_amp_theta\":pcgl_amp_theta,\n",
    "    \"pcgr_amp_theta\":pcgr_amp_theta,\n",
    "    \"pcg_delay\":pcg_delay}\n",
    "    return res_dict\n",
    "\n",
    "    # fig = plt.figure(figsize=(15,5))\n",
    "    # axes = fig.add_subplot(111)\n",
    "    # for i in range(16):\n",
    "    #     _, power = subject.psd(df[:,i], sampling_interval = 1/fs, visual=True, xlim=100., axes=axes, label=f\"{node_names[i]}\")\n",
    "    #     if i == 4:\n",
    "    #         highest_pcg_left = np.argmax(power)\n",
    "    #     if i == 5:\n",
    "    #         highest_pcg_right = np.argmax(power)\n",
    "    # axes.set_title(f\"{grp}_{caseid}\")\n",
    "    # plt.savefig(f\"/mnt/c/Users/wayne/tvb/psdres/{grp}_{caseid}.png\", dpi=300)\n",
    "    # return highest_pcg_left, highest_pcg_right"
   ]
  },
  {
   "cell_type": "code",
   "execution_count": 3,
   "metadata": {},
   "outputs": [
    {
     "ename": "KeyError",
     "evalue": "'2820A'",
     "output_type": "error",
     "traceback": [
      "\u001b[0;31m---------------------------------------------------------------------------\u001b[0m",
      "\u001b[0;31mKeyError\u001b[0m                                  Traceback (most recent call last)",
      "\u001b[1;32m/mnt/w/github/tvbtools/application/signal_workflow.ipynb Cell 3'\u001b[0m in \u001b[0;36m<cell line: 5>\u001b[0;34m()\u001b[0m\n\u001b[1;32m      <a href='vscode-notebook-cell://wsl%2Bubuntu/mnt/w/github/tvbtools/application/signal_workflow.ipynb#ch0000002vscode-remote?line=0'>1</a>\u001b[0m \u001b[39m#%matplotlib widget\u001b[39;00m\n\u001b[1;32m      <a href='vscode-notebook-cell://wsl%2Bubuntu/mnt/w/github/tvbtools/application/signal_workflow.ipynb#ch0000002vscode-remote?line=1'>2</a>\u001b[0m \u001b[39m# print(coData)\u001b[39;00m\n\u001b[1;32m      <a href='vscode-notebook-cell://wsl%2Bubuntu/mnt/w/github/tvbtools/application/signal_workflow.ipynb#ch0000002vscode-remote?line=2'>3</a>\u001b[0m \u001b[39m# read_data('NC', \"0591A\")\u001b[39;00m\n\u001b[1;32m      <a href='vscode-notebook-cell://wsl%2Bubuntu/mnt/w/github/tvbtools/application/signal_workflow.ipynb#ch0000002vscode-remote?line=3'>4</a>\u001b[0m \u001b[39m# df = pd.DataFrame(columns=[\"group\", \"caseid\", \"pcg_left_power\", \"pcg_right_power\"])\u001b[39;00m\n\u001b[1;32m      <a href='vscode-notebook-cell://wsl%2Bubuntu/mnt/w/github/tvbtools/application/signal_workflow.ipynb#ch0000002vscode-remote?line=4'>5</a>\u001b[0m \u001b[39mfor\u001b[39;00m grp, caseid \u001b[39min\u001b[39;00m \u001b[39mzip\u001b[39m(coData\u001b[39m.\u001b[39mgroups, coData\u001b[39m.\u001b[39mcaseid):\n\u001b[0;32m----> <a href='vscode-notebook-cell://wsl%2Bubuntu/mnt/w/github/tvbtools/application/signal_workflow.ipynb#ch0000002vscode-remote?line=5'>6</a>\u001b[0m     \u001b[39mprint\u001b[39m(read_data(grp, caseid))\n",
      "\u001b[1;32m/mnt/w/github/tvbtools/application/signal_workflow.ipynb Cell 2'\u001b[0m in \u001b[0;36mread_data\u001b[0;34m(grp, caseid, amp)\u001b[0m\n\u001b[1;32m     <a href='vscode-notebook-cell://wsl%2Bubuntu/mnt/w/github/tvbtools/application/signal_workflow.ipynb#ch0000001vscode-remote?line=10'>11</a>\u001b[0m \u001b[39mdef\u001b[39;00m \u001b[39mread_data\u001b[39m(grp, caseid, amp\u001b[39m=\u001b[39m\u001b[39m'\u001b[39m\u001b[39mp2v\u001b[39m\u001b[39m'\u001b[39m):\n\u001b[0;32m---> <a href='vscode-notebook-cell://wsl%2Bubuntu/mnt/w/github/tvbtools/application/signal_workflow.ipynb#ch0000001vscode-remote?line=11'>12</a>\u001b[0m     gm \u001b[39m=\u001b[39m np\u001b[39m.\u001b[39mround(coData\u001b[39m.\u001b[39;49mloc[caseid, \u001b[39m\"\u001b[39;49m\u001b[39mGc\u001b[39;49m\u001b[39m\"\u001b[39;49m], \u001b[39m3\u001b[39m)\n\u001b[1;32m     <a href='vscode-notebook-cell://wsl%2Bubuntu/mnt/w/github/tvbtools/application/signal_workflow.ipynb#ch0000001vscode-remote?line=12'>13</a>\u001b[0m     \u001b[39m# filename = '/mnt/d/data/LFP/'+str(grp)+'/'+str(caseid)+'/'+str(caseid)+'_'+str(gm)+'.csv'\u001b[39;00m\n\u001b[1;32m     <a href='vscode-notebook-cell://wsl%2Bubuntu/mnt/w/github/tvbtools/application/signal_workflow.ipynb#ch0000001vscode-remote?line=13'>14</a>\u001b[0m     filename \u001b[39m=\u001b[39m \u001b[39m'\u001b[39m\u001b[39m/mnt/w/gc3mins/\u001b[39m\u001b[39m'\u001b[39m\u001b[39m+\u001b[39mgrp\u001b[39m+\u001b[39m\u001b[39m'\u001b[39m\u001b[39m/\u001b[39m\u001b[39m'\u001b[39m\u001b[39m+\u001b[39mcaseid\u001b[39m+\u001b[39m\u001b[39m'\u001b[39m\u001b[39m.h5\u001b[39m\u001b[39m'\u001b[39m\n",
      "File \u001b[0;32m~/miniconda3/envs/tvbenv/lib/python3.8/site-packages/pandas/core/indexing.py:960\u001b[0m, in \u001b[0;36m_LocationIndexer.__getitem__\u001b[0;34m(self, key)\u001b[0m\n\u001b[1;32m    958\u001b[0m     key \u001b[39m=\u001b[39m \u001b[39mtuple\u001b[39m(com\u001b[39m.\u001b[39mapply_if_callable(x, \u001b[39mself\u001b[39m\u001b[39m.\u001b[39mobj) \u001b[39mfor\u001b[39;00m x \u001b[39min\u001b[39;00m key)\n\u001b[1;32m    959\u001b[0m     \u001b[39mif\u001b[39;00m \u001b[39mself\u001b[39m\u001b[39m.\u001b[39m_is_scalar_access(key):\n\u001b[0;32m--> 960\u001b[0m         \u001b[39mreturn\u001b[39;00m \u001b[39mself\u001b[39;49m\u001b[39m.\u001b[39;49mobj\u001b[39m.\u001b[39;49m_get_value(\u001b[39m*\u001b[39;49mkey, takeable\u001b[39m=\u001b[39;49m\u001b[39mself\u001b[39;49m\u001b[39m.\u001b[39;49m_takeable)\n\u001b[1;32m    961\u001b[0m     \u001b[39mreturn\u001b[39;00m \u001b[39mself\u001b[39m\u001b[39m.\u001b[39m_getitem_tuple(key)\n\u001b[1;32m    962\u001b[0m \u001b[39melse\u001b[39;00m:\n\u001b[1;32m    963\u001b[0m     \u001b[39m# we by definition only have the 0th axis\u001b[39;00m\n",
      "File \u001b[0;32m~/miniconda3/envs/tvbenv/lib/python3.8/site-packages/pandas/core/frame.py:3622\u001b[0m, in \u001b[0;36mDataFrame._get_value\u001b[0;34m(self, index, col, takeable)\u001b[0m\n\u001b[1;32m   3616\u001b[0m engine \u001b[39m=\u001b[39m \u001b[39mself\u001b[39m\u001b[39m.\u001b[39mindex\u001b[39m.\u001b[39m_engine\n\u001b[1;32m   3618\u001b[0m \u001b[39mif\u001b[39;00m \u001b[39mnot\u001b[39;00m \u001b[39misinstance\u001b[39m(\u001b[39mself\u001b[39m\u001b[39m.\u001b[39mindex, MultiIndex):\n\u001b[1;32m   3619\u001b[0m     \u001b[39m# CategoricalIndex: Trying to use the engine fastpath may give incorrect\u001b[39;00m\n\u001b[1;32m   3620\u001b[0m     \u001b[39m#  results if our categories are integers that dont match our codes\u001b[39;00m\n\u001b[1;32m   3621\u001b[0m     \u001b[39m# IntervalIndex: IntervalTree has no get_loc\u001b[39;00m\n\u001b[0;32m-> 3622\u001b[0m     row \u001b[39m=\u001b[39m \u001b[39mself\u001b[39;49m\u001b[39m.\u001b[39;49mindex\u001b[39m.\u001b[39;49mget_loc(index)\n\u001b[1;32m   3623\u001b[0m     \u001b[39mreturn\u001b[39;00m series\u001b[39m.\u001b[39m_values[row]\n\u001b[1;32m   3625\u001b[0m \u001b[39m# For MultiIndex going through engine effectively restricts us to\u001b[39;00m\n\u001b[1;32m   3626\u001b[0m \u001b[39m#  same-length tuples; see test_get_set_value_no_partial_indexing\u001b[39;00m\n",
      "File \u001b[0;32m~/miniconda3/envs/tvbenv/lib/python3.8/site-packages/pandas/core/indexes/range.py:389\u001b[0m, in \u001b[0;36mRangeIndex.get_loc\u001b[0;34m(self, key, method, tolerance)\u001b[0m\n\u001b[1;32m    387\u001b[0m             \u001b[39mraise\u001b[39;00m \u001b[39mKeyError\u001b[39;00m(key) \u001b[39mfrom\u001b[39;00m \u001b[39merr\u001b[39;00m\n\u001b[1;32m    388\u001b[0m     \u001b[39mself\u001b[39m\u001b[39m.\u001b[39m_check_indexing_error(key)\n\u001b[0;32m--> 389\u001b[0m     \u001b[39mraise\u001b[39;00m \u001b[39mKeyError\u001b[39;00m(key)\n\u001b[1;32m    390\u001b[0m \u001b[39mreturn\u001b[39;00m \u001b[39msuper\u001b[39m()\u001b[39m.\u001b[39mget_loc(key, method\u001b[39m=\u001b[39mmethod, tolerance\u001b[39m=\u001b[39mtolerance)\n",
      "\u001b[0;31mKeyError\u001b[0m: '2820A'"
     ]
    }
   ],
   "source": [
    "#%matplotlib widget\n",
    "# print(coData)\n",
    "# read_data('NC', \"0591A\")\n",
    "# df = pd.DataFrame(columns=[\"group\", \"caseid\", \"pcg_left_power\", \"pcg_right_power\"])\n",
    "for grp, caseid in zip(coData.groups, coData.caseid):\n",
    "    print(read_data(grp, caseid))\n",
    "#     df = pd.concat([df, pd.DataFrame.from_records([{\"group\": grp, \"caseid\":caseid,\"pcg_left_power\":pcgl, \"pcg_right_power\": pcgr}])], ignore_index = True)\n",
    "# df.to_excel('/mnt/c/Users/wayne/tvb/psd_data.xlsx')"
   ]
  }
 ],
 "metadata": {
  "kernelspec": {
   "display_name": "Python 3.8.12 ('tvbenv')",
   "language": "python",
   "name": "python3"
  },
  "language_info": {
   "codemirror_mode": {
    "name": "ipython",
    "version": 3
   },
   "file_extension": ".py",
   "mimetype": "text/x-python",
   "name": "python",
   "nbconvert_exporter": "python",
   "pygments_lexer": "ipython3",
   "version": "3.8.12"
  },
  "orig_nbformat": 4,
  "vscode": {
   "interpreter": {
    "hash": "e3aab1fa5f79352fecdf7fbbb0c622827de056aae1b7ef507c7f9c49073eb6da"
   }
  }
 },
 "nbformat": 4,
 "nbformat_minor": 2
}
